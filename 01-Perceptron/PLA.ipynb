{
 "cells": [
  {
   "cell_type": "markdown",
   "metadata": {},
   "source": [
    "# Perceptron Learning Algorithm (PLA)"
   ]
  },
  {
   "cell_type": "code",
   "execution_count": 1,
   "metadata": {},
   "outputs": [],
   "source": [
    "import numpy as np\n",
    "from mpl_toolkits.mplot3d import Axes3D\n",
    "import matplotlib.pyplot as plt\n",
    "%matplotlib inline"
   ]
  },
  {
   "cell_type": "code",
   "execution_count": 2,
   "metadata": {},
   "outputs": [],
   "source": [
    "class Perceptron:\n",
    "    def __init__(self, max_iter = 1000):\n",
    "        self.coefficients = None\n",
    "        self.max_iter = max_iter\n",
    "    \n",
    "    def fit(self, X, Y, W=None):\n",
    "        n = X.shape[0]\n",
    "        X = np.c_[np.ones(n), X]\n",
    "        self.coefficients = W if W is not None else np.random.rand(X.shape[1])\n",
    "        \n",
    "        new_coeff = self.coefficients\n",
    "        correct_classifications = 0\n",
    "        i = 0\n",
    "        while correct_classifications < n and i < self.max_iter:\n",
    "            hypothesis = self.__sign(np.dot(new_coeff, X[i]))\n",
    "            if hypothesis != Y[i]:\n",
    "                new_coeff += X[i] * Y[i]\n",
    "                correct_classifications = 1\n",
    "            else:\n",
    "                correct_classifications += 1\n",
    "            self.coefficients = new_coeff\n",
    "            i = (i + 1) % n\n",
    "        return self\n",
    "    \n",
    "    def predict(self, X):\n",
    "        X = np.r_[1, X]\n",
    "        return self.__sign(np.dot(self.coefficients, X))\n",
    "    \n",
    "    def __sign(self, x):\n",
    "        if x > 0:\n",
    "            return 1\n",
    "        elif x < 0:\n",
    "            return -1\n",
    "        # The value of sign(s) when s = 0 is a simple technicality that we ignore for the moment."
   ]
  },
  {
   "cell_type": "code",
   "execution_count": 3,
   "metadata": {},
   "outputs": [],
   "source": [
    "X = np.array([[0, 0], \n",
    "              [0, 1], \n",
    "              [1, 0], \n",
    "              [1, 1]])\n",
    "\n",
    "# OR operation\n",
    "Y = np.array([-1, 1, 1, 1])\n",
    "\n",
    "W = np.array([0.5, -1, 1])"
   ]
  },
  {
   "cell_type": "code",
   "execution_count": 4,
   "metadata": {},
   "outputs": [
    {
     "data": {
      "text/plain": [
       "array([-0.60933623,  0.64439698,  1.58882296])"
      ]
     },
     "execution_count": 4,
     "metadata": {},
     "output_type": "execute_result"
    }
   ],
   "source": [
    "clf = Perceptron().fit(X, Y)\n",
    "clf.coefficients"
   ]
  },
  {
   "cell_type": "code",
   "execution_count": 5,
   "metadata": {},
   "outputs": [
    {
     "data": {
      "text/plain": [
       "<matplotlib.collections.PathCollection at 0x7ff8b3df4240>"
      ]
     },
     "execution_count": 5,
     "metadata": {},
     "output_type": "execute_result"
    },
    {
     "data": {
      "image/png": "[encoded data removed]",
      "text/plain": [
       "<Figure size 432x288 with 1 Axes>"
      ]
     },
     "metadata": {},
     "output_type": "display_data"
    }
   ],
   "source": [
    "# https://stats.stackexchange.com/questions/71335/decision-boundary-plot-for-a-perceptron\n",
    "import matplotlib.pyplot as plt\n",
    "\n",
    "cmap = plt.cm.tab20c  # colormap\n",
    "h = .02  # step size in the mesh\n",
    "\n",
    "# Create a mesh to plot in\n",
    "x_min, x_max = X[:, 0].min() - 1, X[:, 0].max() + 1\n",
    "y_min, y_max = X[:, 1].min() - 1, X[:, 1].max() + 1\n",
    "xx, yy = np.meshgrid(np.arange(x_min, x_max, h),\n",
    "                     np.arange(y_min, y_max, h))\n",
    "\n",
    "# Plot the decision boundary. For that, we will assign a color to each\n",
    "# point in the mesh [x_min, m_max]x[y_min, y_max].\n",
    "fig, ax = plt.subplots()\n",
    "Z = np.apply_along_axis(clf.predict, 1, np.c_[xx.ravel(), yy.ravel()])\n",
    "\n",
    "# Put the result into a colour plot\n",
    "Z = Z.reshape(xx.shape)\n",
    "ax.contourf(xx, yy, Z, cmap=cmap)\n",
    "ax.axis('off')\n",
    "\n",
    "# Plot also the training points\n",
    "ax.scatter(X[:, 0], X[:, 1], c=Y, cmap=cmap)"
   ]
  }
 ],
 "metadata": {
  "kernelspec": {
   "display_name": "Python 3",
   "language": "python",
   "name": "python3"
  },
  "language_info": {
   "codemirror_mode": {
    "name": "ipython",
    "version": 3
   },
   "file_extension": ".py",
   "mimetype": "text/x-python",
   "name": "python",
   "nbconvert_exporter": "python",
   "pygments_lexer": "ipython3",
   "version": "3.5.4"
  }
 },
 "nbformat": 4,
 "nbformat_minor": 2
}
